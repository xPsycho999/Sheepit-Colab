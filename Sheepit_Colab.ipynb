{
  "nbformat": 4,
  "nbformat_minor": 0,
  "metadata": {
    "colab": {
      "name": "Sheepit-Colab.ipynb",
      "provenance": []
    },
    "kernelspec": {
      "name": "python3",
      "display_name": "Python 3"
    }
  },
  "cells": [
    {
      "cell_type": "code",
      "metadata": {
        "id": "WJe71S6gbzt3",
        "colab_type": "code",
        "colab": {}
      },
      "source": [
        "!nvidia-smi"
      ],
      "execution_count": 0,
      "outputs": []
    },
    {
      "cell_type": "code",
      "metadata": {
        "id": "lZi_AYMyaiIp",
        "colab_type": "code",
        "colab": {}
      },
      "source": [
        "import os\n",
        " \n",
        "os.environ[\"LD_PRELOAD\"] = \"\"\n",
        " \n",
        "!apt update\n",
        "!apt remove libtcmalloc-minimal4\n",
        "!apt install libtcmalloc-minimal4\n",
        "os.environ[\"LD_PRELOAD\"] = \"/usr/lib/x86_64-linux-gnu/libtcmalloc_minimal.so.4.3.0\"\n",
        " \n",
        "!echo $LD_PRELOAD\n",
        " \n",
        "!apt install libboost-all-dev\n",
        "!apt install libgl1-mesa-dev\n",
        "!apt install libglu1-mesa libsm-dev\n",
        "!sudo add-apt-repository ppa:thomas-schiex/blender -y\n",
        "!sudo apt-get update\n",
        "!wget http://sheepit-renderfarm.com/media/applet/client-latest.php -O sheepit.jar\n",
        "!java -jar sheepit.jar -login highway999 -password Ky4RhSFABxdM61yKgnE3wRMOcujyGB5EeaW1unMy -ui text -gpu CUDA_0 -compute-method GPU\n"
      ],
      "execution_count": 0,
      "outputs": []
    }
  ]
}